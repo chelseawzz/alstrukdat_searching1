{
 "cells": [
  {
   "cell_type": "markdown",
   "id": "03fc86ca",
   "metadata": {},
   "source": [
    "# ALGORITMA PENCARIAN (SEARCHING)"
   ]
  },
  {
   "cell_type": "markdown",
   "id": "c40e7c1f",
   "metadata": {},
   "source": [
    "Bertujuan untuk mencari atau menemukan sebuah nilai atau data tertentu dari\n",
    "sekumpulan data yang bisa berbentuk list, array, ataupun bentuk lainnya."
   ]
  },
  {
   "cell_type": "markdown",
   "id": "b37e491b",
   "metadata": {},
   "source": [
    "BINARY SEARCH"
   ]
  },
  {
   "cell_type": "code",
   "execution_count": 4,
   "id": "b6b8485c",
   "metadata": {},
   "outputs": [
    {
     "name": "stdout",
     "output_type": "stream",
     "text": [
      "1\n"
     ]
    }
   ],
   "source": [
    "def binary_search(list,item):\n",
    "    low = 0\n",
    "    high = len(list)-1\n",
    "    \n",
    "    while low <= high :\n",
    "        mid = (low + high)//2\n",
    "        guess = list[mid]\n",
    "        if guess == item:\n",
    "            return mid\n",
    "        if guess > item:\n",
    "            high = mid - 1\n",
    "        else:\n",
    "            low = mid + 1\n",
    "    return None\n",
    "    \n",
    "my_list = [1,3,5,7,9]\n",
    "print(binary_search(my_list,3))"
   ]
  },
  {
   "cell_type": "code",
   "execution_count": 5,
   "id": "c4fafd8e",
   "metadata": {},
   "outputs": [
    {
     "name": "stdout",
     "output_type": "stream",
     "text": [
      "None\n"
     ]
    }
   ],
   "source": [
    "print(binary_search(my_list,-1))"
   ]
  },
  {
   "cell_type": "code",
   "execution_count": null,
   "id": "5018fc74",
   "metadata": {},
   "outputs": [],
   "source": []
  },
  {
   "cell_type": "code",
   "execution_count": null,
   "id": "d86d5b03",
   "metadata": {},
   "outputs": [],
   "source": []
  },
  {
   "cell_type": "code",
   "execution_count": null,
   "id": "400b97a4",
   "metadata": {},
   "outputs": [],
   "source": []
  },
  {
   "cell_type": "code",
   "execution_count": null,
   "id": "aaf8cc63",
   "metadata": {},
   "outputs": [],
   "source": []
  }
 ],
 "metadata": {
  "kernelspec": {
   "display_name": "Python 3 (ipykernel)",
   "language": "python",
   "name": "python3"
  },
  "language_info": {
   "codemirror_mode": {
    "name": "ipython",
    "version": 3
   },
   "file_extension": ".py",
   "mimetype": "text/x-python",
   "name": "python",
   "nbconvert_exporter": "python",
   "pygments_lexer": "ipython3",
   "version": "3.11.5"
  }
 },
 "nbformat": 4,
 "nbformat_minor": 5
}

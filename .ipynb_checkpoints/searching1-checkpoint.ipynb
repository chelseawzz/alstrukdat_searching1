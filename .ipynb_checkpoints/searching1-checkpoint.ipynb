{
 "cells": [
  {
   "cell_type": "raw",
   "id": "293ef0d6",
   "metadata": {},
   "source": [
    "ALGORITMA PENCARIAN (SEARCHING)"
   ]
  },
  {
   "cell_type": "markdown",
   "id": "c40e7c1f",
   "metadata": {},
   "source": [
    "Bertujuan untuk mencari atau menemukan sebuah nilai atau data tertentu dari\n",
    "sekumpulan data yang bisa berbentuk list, array, ataupun bentuk lainnya."
   ]
  },
  {
   "cell_type": "code",
   "execution_count": null,
   "id": "b6b8485c",
   "metadata": {},
   "outputs": [],
   "source": []
  },
  {
   "cell_type": "code",
   "execution_count": null,
   "id": "c4fafd8e",
   "metadata": {},
   "outputs": [],
   "source": []
  },
  {
   "cell_type": "code",
   "execution_count": null,
   "id": "5018fc74",
   "metadata": {},
   "outputs": [],
   "source": []
  },
  {
   "cell_type": "code",
   "execution_count": null,
   "id": "d86d5b03",
   "metadata": {},
   "outputs": [],
   "source": []
  },
  {
   "cell_type": "code",
   "execution_count": null,
   "id": "400b97a4",
   "metadata": {},
   "outputs": [],
   "source": []
  },
  {
   "cell_type": "code",
   "execution_count": null,
   "id": "aaf8cc63",
   "metadata": {},
   "outputs": [],
   "source": []
  }
 ],
 "metadata": {
  "kernelspec": {
   "display_name": "Python 3 (ipykernel)",
   "language": "python",
   "name": "python3"
  },
  "language_info": {
   "codemirror_mode": {
    "name": "ipython",
    "version": 3
   },
   "file_extension": ".py",
   "mimetype": "text/x-python",
   "name": "python",
   "nbconvert_exporter": "python",
   "pygments_lexer": "ipython3",
   "version": "3.11.5"
  }
 },
 "nbformat": 4,
 "nbformat_minor": 5
}

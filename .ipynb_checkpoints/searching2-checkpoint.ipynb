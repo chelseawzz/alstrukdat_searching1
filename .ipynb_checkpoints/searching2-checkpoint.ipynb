{
 "cells": [
  {
   "cell_type": "markdown",
   "id": "b7dc9abb",
   "metadata": {},
   "source": [
    "# Algoritma Binary Search"
   ]
  },
  {
   "cell_type": "code",
   "execution_count": 1,
   "id": "7e682070",
   "metadata": {},
   "outputs": [
    {
     "name": "stdout",
     "output_type": "stream",
     "text": [
      "1\n"
     ]
    }
   ],
   "source": [
    "def binary_search(list,item):\n",
    "    low = 0\n",
    "    high = len(list)-1\n",
    "    \n",
    "    while low <= high :\n",
    "        mid = (low + high)//2\n",
    "        guess = list[mid]\n",
    "        if guess == item:\n",
    "            return mid\n",
    "        if guess > item:\n",
    "            high = mid - 1\n",
    "        else:\n",
    "            low = mid + 1\n",
    "    return None\n",
    "    \n",
    "my_list = [1,3,5,7,9]\n",
    "print(binary_search(my_list,3))"
   ]
  },
  {
   "cell_type": "code",
   "execution_count": 2,
   "id": "0b698019",
   "metadata": {},
   "outputs": [
    {
     "name": "stdout",
     "output_type": "stream",
     "text": [
      "None\n"
     ]
    }
   ],
   "source": [
    "print(binary_search(my_list,-1))"
   ]
  }
 ],
 "metadata": {
  "kernelspec": {
   "display_name": "Python 3 (ipykernel)",
   "language": "python",
   "name": "python3"
  },
  "language_info": {
   "codemirror_mode": {
    "name": "ipython",
    "version": 3
   },
   "file_extension": ".py",
   "mimetype": "text/x-python",
   "name": "python",
   "nbconvert_exporter": "python",
   "pygments_lexer": "ipython3",
   "version": "3.11.5"
  }
 },
 "nbformat": 4,
 "nbformat_minor": 5
}
